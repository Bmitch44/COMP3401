{
 "cells": [
  {
   "cell_type": "markdown",
   "id": "80ce2e17-05d0-42b7-b8bd-6aa7c8910fd5",
   "metadata": {},
   "source": [
    "# Frequent Itemset and Association Rules Mining using Apriori Algorithm\n",
    "\n",
    "In this part, you will build a system which can help make recommendations using the Apriori algorithm.\n",
    "\n",
    "To solve this assignment you will need to go though these pages:\n",
    "\n",
    "* https://rasbt.github.io/mlxtend/user_guide/preprocessing/TransactionEncoder/\n",
    "* https://rasbt.github.io/mlxtend/user_guide/frequent_patterns/association_rules/\n",
    "* https://rasbt.github.io/mlxtend/user_guide/frequent_patterns/apriori/\n",
    "* https://rasbt.github.io/mlxtend/user_guide/frequent_patterns/fpgrowth/\n",
    "\n",
    "The `apply` function in `pandas` can prove very useful for this assignment. See https://pandas.pydata.org/docs/reference/api/pandas.DataFrame.apply.html\n",
    "\n",
    "**Source**: Online Retail. (2015). UCI Machine Learning Repository. https://doi.org/10.24432/C5BW33."
   ]
  },
  {
   "cell_type": "code",
   "execution_count": 1,
   "id": "initial_id",
   "metadata": {
    "ExecuteTime": {
     "end_time": "2023-11-05T17:28:39.081606Z",
     "start_time": "2023-11-05T17:28:38.415592Z"
    }
   },
   "outputs": [],
   "source": [
    "import pandas as pd\n",
    "from mlxtend.preprocessing import TransactionEncoder\n",
    "from mlxtend.frequent_patterns import apriori\n",
    "from mlxtend.frequent_patterns import association_rules"
   ]
  },
  {
   "cell_type": "markdown",
   "id": "8a4dc81e-f46a-41c6-8d3f-fab667add21e",
   "metadata": {},
   "source": [
    "## Load and Inspect Data"
   ]
  },
  {
   "cell_type": "code",
   "execution_count": 2,
   "id": "176c802c7b145910",
   "metadata": {
    "ExecuteTime": {
     "end_time": "2023-11-04T23:53:55.643667Z",
     "start_time": "2023-11-04T23:53:55.316878Z"
    },
    "collapsed": false,
    "jupyter": {
     "outputs_hidden": false
    }
   },
   "outputs": [
    {
     "data": {
      "text/html": [
       "<div>\n",
       "<style scoped>\n",
       "    .dataframe tbody tr th:only-of-type {\n",
       "        vertical-align: middle;\n",
       "    }\n",
       "\n",
       "    .dataframe tbody tr th {\n",
       "        vertical-align: top;\n",
       "    }\n",
       "\n",
       "    .dataframe thead th {\n",
       "        text-align: right;\n",
       "    }\n",
       "</style>\n",
       "<table border=\"1\" class=\"dataframe\">\n",
       "  <thead>\n",
       "    <tr style=\"text-align: right;\">\n",
       "      <th></th>\n",
       "      <th>InvoiceNo</th>\n",
       "      <th>StockCode</th>\n",
       "      <th>Description</th>\n",
       "      <th>Quantity</th>\n",
       "      <th>InvoiceDate</th>\n",
       "      <th>UnitPrice</th>\n",
       "      <th>CustomerID</th>\n",
       "      <th>Country</th>\n",
       "    </tr>\n",
       "  </thead>\n",
       "  <tbody>\n",
       "    <tr>\n",
       "      <th>0</th>\n",
       "      <td>536365</td>\n",
       "      <td>85123A</td>\n",
       "      <td>WHITE HANGING HEART T-LIGHT HOLDER</td>\n",
       "      <td>6</td>\n",
       "      <td>2010-12-01 08:26:00</td>\n",
       "      <td>2.55</td>\n",
       "      <td>17850.0</td>\n",
       "      <td>United Kingdom</td>\n",
       "    </tr>\n",
       "    <tr>\n",
       "      <th>1</th>\n",
       "      <td>536365</td>\n",
       "      <td>71053</td>\n",
       "      <td>WHITE METAL LANTERN</td>\n",
       "      <td>6</td>\n",
       "      <td>2010-12-01 08:26:00</td>\n",
       "      <td>3.39</td>\n",
       "      <td>17850.0</td>\n",
       "      <td>United Kingdom</td>\n",
       "    </tr>\n",
       "    <tr>\n",
       "      <th>2</th>\n",
       "      <td>536365</td>\n",
       "      <td>84406B</td>\n",
       "      <td>CREAM CUPID HEARTS COAT HANGER</td>\n",
       "      <td>8</td>\n",
       "      <td>2010-12-01 08:26:00</td>\n",
       "      <td>2.75</td>\n",
       "      <td>17850.0</td>\n",
       "      <td>United Kingdom</td>\n",
       "    </tr>\n",
       "    <tr>\n",
       "      <th>3</th>\n",
       "      <td>536365</td>\n",
       "      <td>84029G</td>\n",
       "      <td>KNITTED UNION FLAG HOT WATER BOTTLE</td>\n",
       "      <td>6</td>\n",
       "      <td>2010-12-01 08:26:00</td>\n",
       "      <td>3.39</td>\n",
       "      <td>17850.0</td>\n",
       "      <td>United Kingdom</td>\n",
       "    </tr>\n",
       "    <tr>\n",
       "      <th>4</th>\n",
       "      <td>536365</td>\n",
       "      <td>84029E</td>\n",
       "      <td>RED WOOLLY HOTTIE WHITE HEART.</td>\n",
       "      <td>6</td>\n",
       "      <td>2010-12-01 08:26:00</td>\n",
       "      <td>3.39</td>\n",
       "      <td>17850.0</td>\n",
       "      <td>United Kingdom</td>\n",
       "    </tr>\n",
       "  </tbody>\n",
       "</table>\n",
       "</div>"
      ],
      "text/plain": [
       "  InvoiceNo StockCode                          Description  Quantity  \\\n",
       "0    536365    85123A   WHITE HANGING HEART T-LIGHT HOLDER         6   \n",
       "1    536365     71053                  WHITE METAL LANTERN         6   \n",
       "2    536365    84406B       CREAM CUPID HEARTS COAT HANGER         8   \n",
       "3    536365    84029G  KNITTED UNION FLAG HOT WATER BOTTLE         6   \n",
       "4    536365    84029E       RED WOOLLY HOTTIE WHITE HEART.         6   \n",
       "\n",
       "           InvoiceDate  UnitPrice  CustomerID         Country  \n",
       "0  2010-12-01 08:26:00       2.55     17850.0  United Kingdom  \n",
       "1  2010-12-01 08:26:00       3.39     17850.0  United Kingdom  \n",
       "2  2010-12-01 08:26:00       2.75     17850.0  United Kingdom  \n",
       "3  2010-12-01 08:26:00       3.39     17850.0  United Kingdom  \n",
       "4  2010-12-01 08:26:00       3.39     17850.0  United Kingdom  "
      ]
     },
     "execution_count": 2,
     "metadata": {},
     "output_type": "execute_result"
    }
   ],
   "source": [
    "invoices = pd.read_csv('data/data.csv')\n",
    "invoices.head()"
   ]
  },
  {
   "cell_type": "markdown",
   "id": "04a58830-1969-4964-afc9-0f8546b72c3a",
   "metadata": {},
   "source": [
    "## Data Transformation\n",
    "\n",
    "Drop everything except InvoiceNo and StockCode since we can use InvoiceNo for transaction id and StockCode for item name"
   ]
  },
  {
   "cell_type": "code",
   "execution_count": 27,
   "id": "63790ca9e7412402",
   "metadata": {
    "ExecuteTime": {
     "end_time": "2023-11-04T23:53:58.397361Z",
     "start_time": "2023-11-04T23:53:58.393268Z"
    },
    "collapsed": false,
    "jupyter": {
     "outputs_hidden": false
    }
   },
   "outputs": [],
   "source": [
    "# Your code here"
   ]
  },
  {
   "cell_type": "code",
   "execution_count": 4,
   "id": "c68c3a4c-f537-472f-9578-00d9f73d8e87",
   "metadata": {
    "scrolled": true
   },
   "outputs": [
    {
     "data": {
      "text/html": [
       "<div>\n",
       "<style scoped>\n",
       "    .dataframe tbody tr th:only-of-type {\n",
       "        vertical-align: middle;\n",
       "    }\n",
       "\n",
       "    .dataframe tbody tr th {\n",
       "        vertical-align: top;\n",
       "    }\n",
       "\n",
       "    .dataframe thead th {\n",
       "        text-align: right;\n",
       "    }\n",
       "</style>\n",
       "<table border=\"1\" class=\"dataframe\">\n",
       "  <thead>\n",
       "    <tr style=\"text-align: right;\">\n",
       "      <th></th>\n",
       "      <th>InvoiceNo</th>\n",
       "      <th>StockCode</th>\n",
       "    </tr>\n",
       "  </thead>\n",
       "  <tbody>\n",
       "    <tr>\n",
       "      <th>0</th>\n",
       "      <td>536365</td>\n",
       "      <td>85123A</td>\n",
       "    </tr>\n",
       "    <tr>\n",
       "      <th>1</th>\n",
       "      <td>536365</td>\n",
       "      <td>71053</td>\n",
       "    </tr>\n",
       "    <tr>\n",
       "      <th>2</th>\n",
       "      <td>536365</td>\n",
       "      <td>84406B</td>\n",
       "    </tr>\n",
       "    <tr>\n",
       "      <th>3</th>\n",
       "      <td>536365</td>\n",
       "      <td>84029G</td>\n",
       "    </tr>\n",
       "    <tr>\n",
       "      <th>4</th>\n",
       "      <td>536365</td>\n",
       "      <td>84029E</td>\n",
       "    </tr>\n",
       "  </tbody>\n",
       "</table>\n",
       "</div>"
      ],
      "text/plain": [
       "  InvoiceNo StockCode\n",
       "0    536365    85123A\n",
       "1    536365     71053\n",
       "2    536365    84406B\n",
       "3    536365    84029G\n",
       "4    536365    84029E"
      ]
     },
     "execution_count": 4,
     "metadata": {},
     "output_type": "execute_result"
    }
   ],
   "source": [
    "data.head()"
   ]
  },
  {
   "cell_type": "markdown",
   "id": "5fca98b0-1ded-4d6d-859f-56faeed12275",
   "metadata": {},
   "source": [
    "Group the data by InvoiceNo and create a list of StockCode for each invoice"
   ]
  },
  {
   "cell_type": "code",
   "execution_count": 29,
   "id": "513403bd-cd14-425e-a016-238abdf18778",
   "metadata": {},
   "outputs": [],
   "source": [
    "# Your code here"
   ]
  },
  {
   "cell_type": "code",
   "execution_count": 6,
   "id": "29f38b0d58078b11",
   "metadata": {
    "ExecuteTime": {
     "end_time": "2023-11-05T15:03:57.099307Z",
     "start_time": "2023-11-05T15:03:57.096812Z"
    },
    "collapsed": false,
    "jupyter": {
     "outputs_hidden": false
    }
   },
   "outputs": [
    {
     "data": {
      "text/plain": [
       "[['85123A', '71053', '84406B', '84029G', '84029E', '22752', '21730'],\n",
       " ['22633', '22632'],\n",
       " ['84879',\n",
       "  '22745',\n",
       "  '22748',\n",
       "  '22749',\n",
       "  '22310',\n",
       "  '84969',\n",
       "  '22623',\n",
       "  '22622',\n",
       "  '21754',\n",
       "  '21755',\n",
       "  '21777',\n",
       "  '48187'],\n",
       " ['22960', '22913', '22912', '22914']]"
      ]
     },
     "execution_count": 6,
     "metadata": {},
     "output_type": "execute_result"
    }
   ],
   "source": [
    "transactions[0:4]"
   ]
  },
  {
   "cell_type": "markdown",
   "id": "8e624423-0d6e-49b3-ad8e-024629728028",
   "metadata": {},
   "source": [
    "Using TransactionEncoder, convert the transactions into a dataset where each row represents a transaction and each column represents an item. The values will be True or False depending on whether the item is present in that specific transaction."
   ]
  },
  {
   "cell_type": "code",
   "execution_count": 28,
   "id": "d85de8e3b1f7ea4b",
   "metadata": {
    "ExecuteTime": {
     "end_time": "2023-11-05T00:02:42.360823Z",
     "start_time": "2023-11-05T00:02:42.313486Z"
    },
    "collapsed": false,
    "jupyter": {
     "outputs_hidden": false
    }
   },
   "outputs": [],
   "source": [
    "# Your code here"
   ]
  },
  {
   "cell_type": "code",
   "execution_count": 8,
   "id": "f08424d7-ef4c-4a1e-a8f5-c0f4ed938bf0",
   "metadata": {},
   "outputs": [
    {
     "data": {
      "text/html": [
       "<div>\n",
       "<style scoped>\n",
       "    .dataframe tbody tr th:only-of-type {\n",
       "        vertical-align: middle;\n",
       "    }\n",
       "\n",
       "    .dataframe tbody tr th {\n",
       "        vertical-align: top;\n",
       "    }\n",
       "\n",
       "    .dataframe thead th {\n",
       "        text-align: right;\n",
       "    }\n",
       "</style>\n",
       "<table border=\"1\" class=\"dataframe\">\n",
       "  <thead>\n",
       "    <tr style=\"text-align: right;\">\n",
       "      <th></th>\n",
       "      <th>10002</th>\n",
       "      <th>10080</th>\n",
       "      <th>10120</th>\n",
       "      <th>10123C</th>\n",
       "      <th>10123G</th>\n",
       "      <th>10124A</th>\n",
       "      <th>10124G</th>\n",
       "      <th>10125</th>\n",
       "      <th>10133</th>\n",
       "      <th>10134</th>\n",
       "      <th>...</th>\n",
       "      <th>M</th>\n",
       "      <th>PADS</th>\n",
       "      <th>POST</th>\n",
       "      <th>S</th>\n",
       "      <th>gift_0001_10</th>\n",
       "      <th>gift_0001_20</th>\n",
       "      <th>gift_0001_30</th>\n",
       "      <th>gift_0001_40</th>\n",
       "      <th>gift_0001_50</th>\n",
       "      <th>m</th>\n",
       "    </tr>\n",
       "  </thead>\n",
       "  <tbody>\n",
       "    <tr>\n",
       "      <th>0</th>\n",
       "      <td>False</td>\n",
       "      <td>False</td>\n",
       "      <td>False</td>\n",
       "      <td>False</td>\n",
       "      <td>False</td>\n",
       "      <td>False</td>\n",
       "      <td>False</td>\n",
       "      <td>False</td>\n",
       "      <td>False</td>\n",
       "      <td>False</td>\n",
       "      <td>...</td>\n",
       "      <td>False</td>\n",
       "      <td>False</td>\n",
       "      <td>False</td>\n",
       "      <td>False</td>\n",
       "      <td>False</td>\n",
       "      <td>False</td>\n",
       "      <td>False</td>\n",
       "      <td>False</td>\n",
       "      <td>False</td>\n",
       "      <td>False</td>\n",
       "    </tr>\n",
       "    <tr>\n",
       "      <th>1</th>\n",
       "      <td>False</td>\n",
       "      <td>False</td>\n",
       "      <td>False</td>\n",
       "      <td>False</td>\n",
       "      <td>False</td>\n",
       "      <td>False</td>\n",
       "      <td>False</td>\n",
       "      <td>False</td>\n",
       "      <td>False</td>\n",
       "      <td>False</td>\n",
       "      <td>...</td>\n",
       "      <td>False</td>\n",
       "      <td>False</td>\n",
       "      <td>False</td>\n",
       "      <td>False</td>\n",
       "      <td>False</td>\n",
       "      <td>False</td>\n",
       "      <td>False</td>\n",
       "      <td>False</td>\n",
       "      <td>False</td>\n",
       "      <td>False</td>\n",
       "    </tr>\n",
       "    <tr>\n",
       "      <th>2</th>\n",
       "      <td>False</td>\n",
       "      <td>False</td>\n",
       "      <td>False</td>\n",
       "      <td>False</td>\n",
       "      <td>False</td>\n",
       "      <td>False</td>\n",
       "      <td>False</td>\n",
       "      <td>False</td>\n",
       "      <td>False</td>\n",
       "      <td>False</td>\n",
       "      <td>...</td>\n",
       "      <td>False</td>\n",
       "      <td>False</td>\n",
       "      <td>False</td>\n",
       "      <td>False</td>\n",
       "      <td>False</td>\n",
       "      <td>False</td>\n",
       "      <td>False</td>\n",
       "      <td>False</td>\n",
       "      <td>False</td>\n",
       "      <td>False</td>\n",
       "    </tr>\n",
       "    <tr>\n",
       "      <th>3</th>\n",
       "      <td>False</td>\n",
       "      <td>False</td>\n",
       "      <td>False</td>\n",
       "      <td>False</td>\n",
       "      <td>False</td>\n",
       "      <td>False</td>\n",
       "      <td>False</td>\n",
       "      <td>False</td>\n",
       "      <td>False</td>\n",
       "      <td>False</td>\n",
       "      <td>...</td>\n",
       "      <td>False</td>\n",
       "      <td>False</td>\n",
       "      <td>False</td>\n",
       "      <td>False</td>\n",
       "      <td>False</td>\n",
       "      <td>False</td>\n",
       "      <td>False</td>\n",
       "      <td>False</td>\n",
       "      <td>False</td>\n",
       "      <td>False</td>\n",
       "    </tr>\n",
       "    <tr>\n",
       "      <th>4</th>\n",
       "      <td>False</td>\n",
       "      <td>False</td>\n",
       "      <td>False</td>\n",
       "      <td>False</td>\n",
       "      <td>False</td>\n",
       "      <td>False</td>\n",
       "      <td>False</td>\n",
       "      <td>False</td>\n",
       "      <td>False</td>\n",
       "      <td>False</td>\n",
       "      <td>...</td>\n",
       "      <td>False</td>\n",
       "      <td>False</td>\n",
       "      <td>False</td>\n",
       "      <td>False</td>\n",
       "      <td>False</td>\n",
       "      <td>False</td>\n",
       "      <td>False</td>\n",
       "      <td>False</td>\n",
       "      <td>False</td>\n",
       "      <td>False</td>\n",
       "    </tr>\n",
       "  </tbody>\n",
       "</table>\n",
       "<p>5 rows × 4070 columns</p>\n",
       "</div>"
      ],
      "text/plain": [
       "   10002  10080  10120  10123C  10123G  10124A  10124G  10125  10133  10134  \\\n",
       "0  False  False  False   False   False   False   False  False  False  False   \n",
       "1  False  False  False   False   False   False   False  False  False  False   \n",
       "2  False  False  False   False   False   False   False  False  False  False   \n",
       "3  False  False  False   False   False   False   False  False  False  False   \n",
       "4  False  False  False   False   False   False   False  False  False  False   \n",
       "\n",
       "   ...      M   PADS   POST      S  gift_0001_10  gift_0001_20  gift_0001_30  \\\n",
       "0  ...  False  False  False  False         False         False         False   \n",
       "1  ...  False  False  False  False         False         False         False   \n",
       "2  ...  False  False  False  False         False         False         False   \n",
       "3  ...  False  False  False  False         False         False         False   \n",
       "4  ...  False  False  False  False         False         False         False   \n",
       "\n",
       "   gift_0001_40  gift_0001_50      m  \n",
       "0         False         False  False  \n",
       "1         False         False  False  \n",
       "2         False         False  False  \n",
       "3         False         False  False  \n",
       "4         False         False  False  \n",
       "\n",
       "[5 rows x 4070 columns]"
      ]
     },
     "execution_count": 8,
     "metadata": {},
     "output_type": "execute_result"
    }
   ],
   "source": [
    "transactions_df.head()"
   ]
  },
  {
   "cell_type": "markdown",
   "id": "be776fc8-3ead-49cc-9d2a-573fa345749e",
   "metadata": {},
   "source": [
    "## Use Apriori to get the frequent itemsets and inspect the results\n",
    "\n",
    "Use apriori to find the frequent_itemsets for `min_sup` = `1%`"
   ]
  },
  {
   "cell_type": "code",
   "execution_count": 30,
   "id": "b194b03ca622ed71",
   "metadata": {
    "ExecuteTime": {
     "end_time": "2023-11-05T00:21:10.879170Z",
     "start_time": "2023-11-05T00:20:41.749376Z"
    },
    "collapsed": false,
    "jupyter": {
     "outputs_hidden": false
    }
   },
   "outputs": [],
   "source": [
    "# Your code here"
   ]
  },
  {
   "cell_type": "code",
   "execution_count": 10,
   "id": "aed5832135386329",
   "metadata": {
    "ExecuteTime": {
     "end_time": "2023-11-05T02:54:09.100404Z",
     "start_time": "2023-11-05T02:54:09.095502Z"
    },
    "collapsed": false,
    "jupyter": {
     "outputs_hidden": false
    }
   },
   "outputs": [
    {
     "data": {
      "text/plain": [
       "(1087, 2)"
      ]
     },
     "execution_count": 10,
     "metadata": {},
     "output_type": "execute_result"
    }
   ],
   "source": [
    "frequent_itemsets.shape"
   ]
  },
  {
   "cell_type": "code",
   "execution_count": 11,
   "id": "903c3dca-2223-4deb-b435-c3262395cb3f",
   "metadata": {},
   "outputs": [
    {
     "data": {
      "text/html": [
       "<div>\n",
       "<style scoped>\n",
       "    .dataframe tbody tr th:only-of-type {\n",
       "        vertical-align: middle;\n",
       "    }\n",
       "\n",
       "    .dataframe tbody tr th {\n",
       "        vertical-align: top;\n",
       "    }\n",
       "\n",
       "    .dataframe thead th {\n",
       "        text-align: right;\n",
       "    }\n",
       "</style>\n",
       "<table border=\"1\" class=\"dataframe\">\n",
       "  <thead>\n",
       "    <tr style=\"text-align: right;\">\n",
       "      <th></th>\n",
       "      <th>support</th>\n",
       "      <th>itemsets</th>\n",
       "    </tr>\n",
       "  </thead>\n",
       "  <tbody>\n",
       "    <tr>\n",
       "      <th>0</th>\n",
       "      <td>0.020193</td>\n",
       "      <td>(15036)</td>\n",
       "    </tr>\n",
       "    <tr>\n",
       "      <th>1</th>\n",
       "      <td>0.012587</td>\n",
       "      <td>(15056BL)</td>\n",
       "    </tr>\n",
       "    <tr>\n",
       "      <th>2</th>\n",
       "      <td>0.017876</td>\n",
       "      <td>(15056N)</td>\n",
       "    </tr>\n",
       "    <tr>\n",
       "      <th>3</th>\n",
       "      <td>0.011236</td>\n",
       "      <td>(16237)</td>\n",
       "    </tr>\n",
       "    <tr>\n",
       "      <th>4</th>\n",
       "      <td>0.012510</td>\n",
       "      <td>(20675)</td>\n",
       "    </tr>\n",
       "  </tbody>\n",
       "</table>\n",
       "</div>"
      ],
      "text/plain": [
       "    support   itemsets\n",
       "0  0.020193    (15036)\n",
       "1  0.012587  (15056BL)\n",
       "2  0.017876   (15056N)\n",
       "3  0.011236    (16237)\n",
       "4  0.012510    (20675)"
      ]
     },
     "execution_count": 11,
     "metadata": {},
     "output_type": "execute_result"
    }
   ],
   "source": [
    "frequent_itemsets.head()"
   ]
  },
  {
   "cell_type": "markdown",
   "id": "ebc6ee4b-b789-4e6b-aa6f-0fb32f6cdc4a",
   "metadata": {},
   "source": [
    "Add an additional column called `items_count` to the dataframe which represents the number of items in the itemset."
   ]
  },
  {
   "cell_type": "code",
   "execution_count": 12,
   "id": "5b6544d4-1968-4dc0-a284-4d0170304cf5",
   "metadata": {},
   "outputs": [],
   "source": [
    "# Your code here"
   ]
  },
  {
   "cell_type": "code",
   "execution_count": 13,
   "id": "c203f9e6-5203-4801-ab0b-b983125e623a",
   "metadata": {},
   "outputs": [
    {
     "data": {
      "text/html": [
       "<div>\n",
       "<style scoped>\n",
       "    .dataframe tbody tr th:only-of-type {\n",
       "        vertical-align: middle;\n",
       "    }\n",
       "\n",
       "    .dataframe tbody tr th {\n",
       "        vertical-align: top;\n",
       "    }\n",
       "\n",
       "    .dataframe thead th {\n",
       "        text-align: right;\n",
       "    }\n",
       "</style>\n",
       "<table border=\"1\" class=\"dataframe\">\n",
       "  <thead>\n",
       "    <tr style=\"text-align: right;\">\n",
       "      <th></th>\n",
       "      <th>support</th>\n",
       "      <th>itemsets</th>\n",
       "      <th>items_count</th>\n",
       "    </tr>\n",
       "  </thead>\n",
       "  <tbody>\n",
       "    <tr>\n",
       "      <th>0</th>\n",
       "      <td>0.020193</td>\n",
       "      <td>(15036)</td>\n",
       "      <td>1</td>\n",
       "    </tr>\n",
       "    <tr>\n",
       "      <th>1</th>\n",
       "      <td>0.012587</td>\n",
       "      <td>(15056BL)</td>\n",
       "      <td>1</td>\n",
       "    </tr>\n",
       "    <tr>\n",
       "      <th>2</th>\n",
       "      <td>0.017876</td>\n",
       "      <td>(15056N)</td>\n",
       "      <td>1</td>\n",
       "    </tr>\n",
       "    <tr>\n",
       "      <th>3</th>\n",
       "      <td>0.011236</td>\n",
       "      <td>(16237)</td>\n",
       "      <td>1</td>\n",
       "    </tr>\n",
       "    <tr>\n",
       "      <th>4</th>\n",
       "      <td>0.012510</td>\n",
       "      <td>(20675)</td>\n",
       "      <td>1</td>\n",
       "    </tr>\n",
       "  </tbody>\n",
       "</table>\n",
       "</div>"
      ],
      "text/plain": [
       "    support   itemsets  items_count\n",
       "0  0.020193    (15036)            1\n",
       "1  0.012587  (15056BL)            1\n",
       "2  0.017876   (15056N)            1\n",
       "3  0.011236    (16237)            1\n",
       "4  0.012510    (20675)            1"
      ]
     },
     "execution_count": 13,
     "metadata": {},
     "output_type": "execute_result"
    }
   ],
   "source": [
    "frequent_itemsets.head()"
   ]
  },
  {
   "cell_type": "markdown",
   "id": "aaeaebe4-e299-48b8-98ee-09c8fb7635a9",
   "metadata": {},
   "source": [
    "Display the various itemsets generated sorted (descending) by the items_count."
   ]
  },
  {
   "cell_type": "code",
   "execution_count": 14,
   "id": "a6d60b10-2318-4d62-b4f9-f1c37d0ccd30",
   "metadata": {},
   "outputs": [
    {
     "data": {
      "text/html": [
       "<div>\n",
       "<style scoped>\n",
       "    .dataframe tbody tr th:only-of-type {\n",
       "        vertical-align: middle;\n",
       "    }\n",
       "\n",
       "    .dataframe tbody tr th {\n",
       "        vertical-align: top;\n",
       "    }\n",
       "\n",
       "    .dataframe thead th {\n",
       "        text-align: right;\n",
       "    }\n",
       "</style>\n",
       "<table border=\"1\" class=\"dataframe\">\n",
       "  <thead>\n",
       "    <tr style=\"text-align: right;\">\n",
       "      <th></th>\n",
       "      <th>support</th>\n",
       "      <th>itemsets</th>\n",
       "      <th>items_count</th>\n",
       "    </tr>\n",
       "  </thead>\n",
       "  <tbody>\n",
       "    <tr>\n",
       "      <th>1086</th>\n",
       "      <td>0.011699</td>\n",
       "      <td>(22697, 22699, 22423, 22698)</td>\n",
       "      <td>4</td>\n",
       "    </tr>\n",
       "    <tr>\n",
       "      <th>1085</th>\n",
       "      <td>0.010386</td>\n",
       "      <td>(22386, 22411, 21931, 85099B)</td>\n",
       "      <td>4</td>\n",
       "    </tr>\n",
       "    <tr>\n",
       "      <th>1084</th>\n",
       "      <td>0.010077</td>\n",
       "      <td>(20719, 20723, 20724, 22355)</td>\n",
       "      <td>4</td>\n",
       "    </tr>\n",
       "    <tr>\n",
       "      <th>1032</th>\n",
       "      <td>0.012548</td>\n",
       "      <td>(22384, 20725, 20728)</td>\n",
       "      <td>3</td>\n",
       "    </tr>\n",
       "    <tr>\n",
       "      <th>1024</th>\n",
       "      <td>0.011042</td>\n",
       "      <td>(22384, 20726, 20725)</td>\n",
       "      <td>3</td>\n",
       "    </tr>\n",
       "  </tbody>\n",
       "</table>\n",
       "</div>"
      ],
      "text/plain": [
       "       support                       itemsets  items_count\n",
       "1086  0.011699   (22697, 22699, 22423, 22698)            4\n",
       "1085  0.010386  (22386, 22411, 21931, 85099B)            4\n",
       "1084  0.010077   (20719, 20723, 20724, 22355)            4\n",
       "1032  0.012548          (22384, 20725, 20728)            3\n",
       "1024  0.011042          (22384, 20726, 20725)            3"
      ]
     },
     "execution_count": 14,
     "metadata": {},
     "output_type": "execute_result"
    }
   ],
   "source": [
    "# Your code here"
   ]
  },
  {
   "cell_type": "markdown",
   "id": "05f25be1-6425-4227-babd-8e71b64d3ba3",
   "metadata": {},
   "source": [
    "Show how many itemsets exist by items_count"
   ]
  },
  {
   "cell_type": "code",
   "execution_count": 26,
   "id": "7f1b2070-9d81-4e15-ae77-508001760684",
   "metadata": {
    "ExecuteTime": {
     "end_time": "2023-11-05T00:30:43.110212Z",
     "start_time": "2023-11-05T00:30:43.097950Z"
    },
    "collapsed": false,
    "jupyter": {
     "outputs_hidden": false
    }
   },
   "outputs": [],
   "source": [
    "# Your code here"
   ]
  },
  {
   "cell_type": "markdown",
   "id": "3df7a8be-b4eb-4218-ba16-2e33b752d3aa",
   "metadata": {},
   "source": [
    "## Generate association rules\n",
    "Generate all association rules using the `lift` metric with a minimum value of 2"
   ]
  },
  {
   "cell_type": "code",
   "execution_count": 25,
   "id": "18d707fe73c76e4b",
   "metadata": {
    "ExecuteTime": {
     "end_time": "2023-11-05T03:01:01.829353Z",
     "start_time": "2023-11-05T03:01:01.811895Z"
    },
    "collapsed": false,
    "jupyter": {
     "outputs_hidden": false
    }
   },
   "outputs": [],
   "source": [
    "# Your code here"
   ]
  },
  {
   "cell_type": "code",
   "execution_count": 17,
   "id": "b0a38f30-22d8-4579-bc2c-ead59adeb9c8",
   "metadata": {},
   "outputs": [
    {
     "data": {
      "text/plain": [
       "(1338, 10)"
      ]
     },
     "execution_count": 17,
     "metadata": {},
     "output_type": "execute_result"
    }
   ],
   "source": [
    "rules.shape"
   ]
  },
  {
   "cell_type": "code",
   "execution_count": 18,
   "id": "cf22bc7aca2497c4",
   "metadata": {
    "ExecuteTime": {
     "end_time": "2023-11-05T03:01:02.026007Z",
     "start_time": "2023-11-05T03:01:02.023513Z"
    },
    "collapsed": false,
    "jupyter": {
     "outputs_hidden": false
    }
   },
   "outputs": [
    {
     "data": {
      "text/html": [
       "<div>\n",
       "<style scoped>\n",
       "    .dataframe tbody tr th:only-of-type {\n",
       "        vertical-align: middle;\n",
       "    }\n",
       "\n",
       "    .dataframe tbody tr th {\n",
       "        vertical-align: top;\n",
       "    }\n",
       "\n",
       "    .dataframe thead th {\n",
       "        text-align: right;\n",
       "    }\n",
       "</style>\n",
       "<table border=\"1\" class=\"dataframe\">\n",
       "  <thead>\n",
       "    <tr style=\"text-align: right;\">\n",
       "      <th></th>\n",
       "      <th>antecedents</th>\n",
       "      <th>consequents</th>\n",
       "      <th>antecedent support</th>\n",
       "      <th>consequent support</th>\n",
       "      <th>support</th>\n",
       "      <th>confidence</th>\n",
       "      <th>lift</th>\n",
       "      <th>leverage</th>\n",
       "      <th>conviction</th>\n",
       "      <th>zhangs_metric</th>\n",
       "    </tr>\n",
       "  </thead>\n",
       "  <tbody>\n",
       "    <tr>\n",
       "      <th>0</th>\n",
       "      <td>(20712)</td>\n",
       "      <td>(20711)</td>\n",
       "      <td>0.033668</td>\n",
       "      <td>0.020541</td>\n",
       "      <td>0.011158</td>\n",
       "      <td>0.331422</td>\n",
       "      <td>16.135019</td>\n",
       "      <td>0.010467</td>\n",
       "      <td>1.464989</td>\n",
       "      <td>0.970705</td>\n",
       "    </tr>\n",
       "    <tr>\n",
       "      <th>1</th>\n",
       "      <td>(20711)</td>\n",
       "      <td>(20712)</td>\n",
       "      <td>0.020541</td>\n",
       "      <td>0.033668</td>\n",
       "      <td>0.011158</td>\n",
       "      <td>0.543233</td>\n",
       "      <td>16.135019</td>\n",
       "      <td>0.010467</td>\n",
       "      <td>2.115591</td>\n",
       "      <td>0.957695</td>\n",
       "    </tr>\n",
       "    <tr>\n",
       "      <th>2</th>\n",
       "      <td>(21931)</td>\n",
       "      <td>(20711)</td>\n",
       "      <td>0.046371</td>\n",
       "      <td>0.020541</td>\n",
       "      <td>0.011506</td>\n",
       "      <td>0.248127</td>\n",
       "      <td>12.079846</td>\n",
       "      <td>0.010553</td>\n",
       "      <td>1.302692</td>\n",
       "      <td>0.961818</td>\n",
       "    </tr>\n",
       "    <tr>\n",
       "      <th>3</th>\n",
       "      <td>(20711)</td>\n",
       "      <td>(21931)</td>\n",
       "      <td>0.020541</td>\n",
       "      <td>0.046371</td>\n",
       "      <td>0.011506</td>\n",
       "      <td>0.560150</td>\n",
       "      <td>12.079846</td>\n",
       "      <td>0.010553</td>\n",
       "      <td>2.168080</td>\n",
       "      <td>0.936453</td>\n",
       "    </tr>\n",
       "    <tr>\n",
       "      <th>4</th>\n",
       "      <td>(22386)</td>\n",
       "      <td>(20711)</td>\n",
       "      <td>0.047529</td>\n",
       "      <td>0.020541</td>\n",
       "      <td>0.010888</td>\n",
       "      <td>0.229082</td>\n",
       "      <td>11.152679</td>\n",
       "      <td>0.009912</td>\n",
       "      <td>1.270511</td>\n",
       "      <td>0.955762</td>\n",
       "    </tr>\n",
       "  </tbody>\n",
       "</table>\n",
       "</div>"
      ],
      "text/plain": [
       "  antecedents consequents  antecedent support  consequent support   support  \\\n",
       "0     (20712)     (20711)            0.033668            0.020541  0.011158   \n",
       "1     (20711)     (20712)            0.020541            0.033668  0.011158   \n",
       "2     (21931)     (20711)            0.046371            0.020541  0.011506   \n",
       "3     (20711)     (21931)            0.020541            0.046371  0.011506   \n",
       "4     (22386)     (20711)            0.047529            0.020541  0.010888   \n",
       "\n",
       "   confidence       lift  leverage  conviction  zhangs_metric  \n",
       "0    0.331422  16.135019  0.010467    1.464989       0.970705  \n",
       "1    0.543233  16.135019  0.010467    2.115591       0.957695  \n",
       "2    0.248127  12.079846  0.010553    1.302692       0.961818  \n",
       "3    0.560150  12.079846  0.010553    2.168080       0.936453  \n",
       "4    0.229082  11.152679  0.009912    1.270511       0.955762  "
      ]
     },
     "execution_count": 18,
     "metadata": {},
     "output_type": "execute_result"
    }
   ],
   "source": [
    "rules.head()"
   ]
  },
  {
   "cell_type": "code",
   "execution_count": 19,
   "id": "b13a0894be790c60",
   "metadata": {
    "ExecuteTime": {
     "end_time": "2023-11-05T02:45:04.976307Z",
     "start_time": "2023-11-05T02:45:04.966974Z"
    },
    "collapsed": false,
    "jupyter": {
     "outputs_hidden": false
    }
   },
   "outputs": [
    {
     "data": {
      "text/html": [
       "<div>\n",
       "<style scoped>\n",
       "    .dataframe tbody tr th:only-of-type {\n",
       "        vertical-align: middle;\n",
       "    }\n",
       "\n",
       "    .dataframe tbody tr th {\n",
       "        vertical-align: top;\n",
       "    }\n",
       "\n",
       "    .dataframe thead th {\n",
       "        text-align: right;\n",
       "    }\n",
       "</style>\n",
       "<table border=\"1\" class=\"dataframe\">\n",
       "  <thead>\n",
       "    <tr style=\"text-align: right;\">\n",
       "      <th></th>\n",
       "      <th>InvoiceNo</th>\n",
       "      <th>StockCode</th>\n",
       "      <th>Description</th>\n",
       "      <th>Quantity</th>\n",
       "      <th>InvoiceDate</th>\n",
       "      <th>UnitPrice</th>\n",
       "      <th>CustomerID</th>\n",
       "      <th>Country</th>\n",
       "    </tr>\n",
       "  </thead>\n",
       "  <tbody>\n",
       "    <tr>\n",
       "      <th>0</th>\n",
       "      <td>536365</td>\n",
       "      <td>85123A</td>\n",
       "      <td>WHITE HANGING HEART T-LIGHT HOLDER</td>\n",
       "      <td>6</td>\n",
       "      <td>2010-12-01 08:26:00</td>\n",
       "      <td>2.55</td>\n",
       "      <td>17850.0</td>\n",
       "      <td>United Kingdom</td>\n",
       "    </tr>\n",
       "    <tr>\n",
       "      <th>1</th>\n",
       "      <td>536365</td>\n",
       "      <td>71053</td>\n",
       "      <td>WHITE METAL LANTERN</td>\n",
       "      <td>6</td>\n",
       "      <td>2010-12-01 08:26:00</td>\n",
       "      <td>3.39</td>\n",
       "      <td>17850.0</td>\n",
       "      <td>United Kingdom</td>\n",
       "    </tr>\n",
       "    <tr>\n",
       "      <th>2</th>\n",
       "      <td>536365</td>\n",
       "      <td>84406B</td>\n",
       "      <td>CREAM CUPID HEARTS COAT HANGER</td>\n",
       "      <td>8</td>\n",
       "      <td>2010-12-01 08:26:00</td>\n",
       "      <td>2.75</td>\n",
       "      <td>17850.0</td>\n",
       "      <td>United Kingdom</td>\n",
       "    </tr>\n",
       "    <tr>\n",
       "      <th>3</th>\n",
       "      <td>536365</td>\n",
       "      <td>84029G</td>\n",
       "      <td>KNITTED UNION FLAG HOT WATER BOTTLE</td>\n",
       "      <td>6</td>\n",
       "      <td>2010-12-01 08:26:00</td>\n",
       "      <td>3.39</td>\n",
       "      <td>17850.0</td>\n",
       "      <td>United Kingdom</td>\n",
       "    </tr>\n",
       "    <tr>\n",
       "      <th>4</th>\n",
       "      <td>536365</td>\n",
       "      <td>84029E</td>\n",
       "      <td>RED WOOLLY HOTTIE WHITE HEART.</td>\n",
       "      <td>6</td>\n",
       "      <td>2010-12-01 08:26:00</td>\n",
       "      <td>3.39</td>\n",
       "      <td>17850.0</td>\n",
       "      <td>United Kingdom</td>\n",
       "    </tr>\n",
       "  </tbody>\n",
       "</table>\n",
       "</div>"
      ],
      "text/plain": [
       "  InvoiceNo StockCode                          Description  Quantity  \\\n",
       "0    536365    85123A   WHITE HANGING HEART T-LIGHT HOLDER         6   \n",
       "1    536365     71053                  WHITE METAL LANTERN         6   \n",
       "2    536365    84406B       CREAM CUPID HEARTS COAT HANGER         8   \n",
       "3    536365    84029G  KNITTED UNION FLAG HOT WATER BOTTLE         6   \n",
       "4    536365    84029E       RED WOOLLY HOTTIE WHITE HEART.         6   \n",
       "\n",
       "           InvoiceDate  UnitPrice  CustomerID         Country  \n",
       "0  2010-12-01 08:26:00       2.55     17850.0  United Kingdom  \n",
       "1  2010-12-01 08:26:00       3.39     17850.0  United Kingdom  \n",
       "2  2010-12-01 08:26:00       2.75     17850.0  United Kingdom  \n",
       "3  2010-12-01 08:26:00       3.39     17850.0  United Kingdom  \n",
       "4  2010-12-01 08:26:00       3.39     17850.0  United Kingdom  "
      ]
     },
     "execution_count": 19,
     "metadata": {},
     "output_type": "execute_result"
    }
   ],
   "source": [
    "invoices.head()"
   ]
  },
  {
   "cell_type": "markdown",
   "id": "47a4f686-d63c-48ff-97d5-fae0a6e9a4e8",
   "metadata": {},
   "source": [
    "Add the names of the items back in the data frame as save all rules in a csv file"
   ]
  },
  {
   "cell_type": "code",
   "execution_count": 31,
   "id": "57be2a20c41a27b8",
   "metadata": {
    "collapsed": false,
    "jupyter": {
     "outputs_hidden": false
    }
   },
   "outputs": [],
   "source": [
    "# Your code here"
   ]
  },
  {
   "cell_type": "code",
   "execution_count": 21,
   "id": "dd91f342-a598-4f15-9e43-a1fca0097944",
   "metadata": {},
   "outputs": [
    {
     "data": {
      "text/html": [
       "<div>\n",
       "<style scoped>\n",
       "    .dataframe tbody tr th:only-of-type {\n",
       "        vertical-align: middle;\n",
       "    }\n",
       "\n",
       "    .dataframe tbody tr th {\n",
       "        vertical-align: top;\n",
       "    }\n",
       "\n",
       "    .dataframe thead th {\n",
       "        text-align: right;\n",
       "    }\n",
       "</style>\n",
       "<table border=\"1\" class=\"dataframe\">\n",
       "  <thead>\n",
       "    <tr style=\"text-align: right;\">\n",
       "      <th></th>\n",
       "      <th>antecedents</th>\n",
       "      <th>consequents</th>\n",
       "      <th>antecedent support</th>\n",
       "      <th>consequent support</th>\n",
       "      <th>support</th>\n",
       "      <th>confidence</th>\n",
       "      <th>lift</th>\n",
       "      <th>leverage</th>\n",
       "      <th>conviction</th>\n",
       "      <th>zhangs_metric</th>\n",
       "      <th>antecedents_desciption</th>\n",
       "      <th>consequents_description</th>\n",
       "    </tr>\n",
       "  </thead>\n",
       "  <tbody>\n",
       "    <tr>\n",
       "      <th>0</th>\n",
       "      <td>(20712)</td>\n",
       "      <td>(20711)</td>\n",
       "      <td>0.033668</td>\n",
       "      <td>0.020541</td>\n",
       "      <td>0.011158</td>\n",
       "      <td>0.331422</td>\n",
       "      <td>16.135019</td>\n",
       "      <td>0.010467</td>\n",
       "      <td>1.464989</td>\n",
       "      <td>0.970705</td>\n",
       "      <td>[JUMBO BAG WOODLAND ANIMALS]</td>\n",
       "      <td>[JUMBO BAG TOYS ]</td>\n",
       "    </tr>\n",
       "    <tr>\n",
       "      <th>1</th>\n",
       "      <td>(20711)</td>\n",
       "      <td>(20712)</td>\n",
       "      <td>0.020541</td>\n",
       "      <td>0.033668</td>\n",
       "      <td>0.011158</td>\n",
       "      <td>0.543233</td>\n",
       "      <td>16.135019</td>\n",
       "      <td>0.010467</td>\n",
       "      <td>2.115591</td>\n",
       "      <td>0.957695</td>\n",
       "      <td>[JUMBO BAG TOYS ]</td>\n",
       "      <td>[JUMBO BAG WOODLAND ANIMALS]</td>\n",
       "    </tr>\n",
       "    <tr>\n",
       "      <th>2</th>\n",
       "      <td>(21931)</td>\n",
       "      <td>(20711)</td>\n",
       "      <td>0.046371</td>\n",
       "      <td>0.020541</td>\n",
       "      <td>0.011506</td>\n",
       "      <td>0.248127</td>\n",
       "      <td>12.079846</td>\n",
       "      <td>0.010553</td>\n",
       "      <td>1.302692</td>\n",
       "      <td>0.961818</td>\n",
       "      <td>[JUMBO STORAGE BAG SUKI]</td>\n",
       "      <td>[JUMBO BAG TOYS ]</td>\n",
       "    </tr>\n",
       "    <tr>\n",
       "      <th>3</th>\n",
       "      <td>(20711)</td>\n",
       "      <td>(21931)</td>\n",
       "      <td>0.020541</td>\n",
       "      <td>0.046371</td>\n",
       "      <td>0.011506</td>\n",
       "      <td>0.560150</td>\n",
       "      <td>12.079846</td>\n",
       "      <td>0.010553</td>\n",
       "      <td>2.168080</td>\n",
       "      <td>0.936453</td>\n",
       "      <td>[JUMBO BAG TOYS ]</td>\n",
       "      <td>[JUMBO STORAGE BAG SUKI]</td>\n",
       "    </tr>\n",
       "    <tr>\n",
       "      <th>4</th>\n",
       "      <td>(22386)</td>\n",
       "      <td>(20711)</td>\n",
       "      <td>0.047529</td>\n",
       "      <td>0.020541</td>\n",
       "      <td>0.010888</td>\n",
       "      <td>0.229082</td>\n",
       "      <td>11.152679</td>\n",
       "      <td>0.009912</td>\n",
       "      <td>1.270511</td>\n",
       "      <td>0.955762</td>\n",
       "      <td>[JUMBO BAG PINK POLKADOT]</td>\n",
       "      <td>[JUMBO BAG TOYS ]</td>\n",
       "    </tr>\n",
       "  </tbody>\n",
       "</table>\n",
       "</div>"
      ],
      "text/plain": [
       "  antecedents consequents  antecedent support  consequent support   support  \\\n",
       "0     (20712)     (20711)            0.033668            0.020541  0.011158   \n",
       "1     (20711)     (20712)            0.020541            0.033668  0.011158   \n",
       "2     (21931)     (20711)            0.046371            0.020541  0.011506   \n",
       "3     (20711)     (21931)            0.020541            0.046371  0.011506   \n",
       "4     (22386)     (20711)            0.047529            0.020541  0.010888   \n",
       "\n",
       "   confidence       lift  leverage  conviction  zhangs_metric  \\\n",
       "0    0.331422  16.135019  0.010467    1.464989       0.970705   \n",
       "1    0.543233  16.135019  0.010467    2.115591       0.957695   \n",
       "2    0.248127  12.079846  0.010553    1.302692       0.961818   \n",
       "3    0.560150  12.079846  0.010553    2.168080       0.936453   \n",
       "4    0.229082  11.152679  0.009912    1.270511       0.955762   \n",
       "\n",
       "         antecedents_desciption       consequents_description  \n",
       "0  [JUMBO BAG WOODLAND ANIMALS]             [JUMBO BAG TOYS ]  \n",
       "1             [JUMBO BAG TOYS ]  [JUMBO BAG WOODLAND ANIMALS]  \n",
       "2      [JUMBO STORAGE BAG SUKI]             [JUMBO BAG TOYS ]  \n",
       "3             [JUMBO BAG TOYS ]      [JUMBO STORAGE BAG SUKI]  \n",
       "4     [JUMBO BAG PINK POLKADOT]             [JUMBO BAG TOYS ]  "
      ]
     },
     "execution_count": 21,
     "metadata": {},
     "output_type": "execute_result"
    }
   ],
   "source": [
    "rules.head()"
   ]
  },
  {
   "cell_type": "code",
   "execution_count": 24,
   "id": "92b6824c-5dd0-4b22-b79a-45aaf71baed3",
   "metadata": {},
   "outputs": [
    {
     "data": {
      "text/plain": [
       "(1338, 12)"
      ]
     },
     "execution_count": 24,
     "metadata": {},
     "output_type": "execute_result"
    }
   ],
   "source": [
    "rules.shape"
   ]
  },
  {
   "cell_type": "code",
   "execution_count": 23,
   "id": "f001c88d-74eb-4b8d-8fe0-5791a7c58027",
   "metadata": {},
   "outputs": [],
   "source": [
    "# I used the following line to create the rules_100.csv file which only gives you 100 rules.\n",
    "# rules.sample(100).to_csv('rules_100.csv', index=False)\n",
    "\n",
    "# You must submit the rules.csv file that contains all the 1338 rules by running the following command\n",
    "rules.to_csv('rules.csv', index=False)"
   ]
  },
  {
   "cell_type": "code",
   "execution_count": null,
   "id": "06e0283a-d6b5-4b4b-b654-e5bbd6ff2cb1",
   "metadata": {},
   "outputs": [],
   "source": []
  }
 ],
 "metadata": {
  "kernelspec": {
   "display_name": "Python 3 (ipykernel)",
   "language": "python",
   "name": "python3"
  },
  "language_info": {
   "codemirror_mode": {
    "name": "ipython",
    "version": 3
   },
   "file_extension": ".py",
   "mimetype": "text/x-python",
   "name": "python",
   "nbconvert_exporter": "python",
   "pygments_lexer": "ipython3",
   "version": "3.11.5"
  }
 },
 "nbformat": 4,
 "nbformat_minor": 5
}
